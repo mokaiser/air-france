{
 "cells": [
  {
   "cell_type": "markdown",
   "metadata": {},
   "source": [
    "# ISYS 622 Project #2\n",
    "By Tanner Hefflefinger and Morgan Kaiser"
   ]
  },
  {
   "cell_type": "markdown",
   "metadata": {},
   "source": [
    "***\n",
    "### Description of Dataset\n",
    "\n",
    "Data was selected from the large online clickstream data collected in 2011 by tracking over 100,000 unique household online shopping behavior. This small sample includes transactions for booking hotels online.\n",
    "\n",
    "**Here's what the columns represent:**\n",
    "\n",
    "* **ID**: unique transaction ID\n",
    "* **DOMAIN_ID**: unique ID for the web domain\n",
    "* **MACHINE_ID**: unique ID for the household on which the transaction was made\n",
    "* **SITE_SESSION_ID**: unique ID for the session in which the transaction was made\n",
    "* **TRANS_FREQ**: total # of transactions for the household\n",
    "* **DOMAIN_NAME**: the website (aka domain) name where the transaction was made\n",
    "* **DIRECT_D**: dummy variable. 1 = transaction incurred directly from a hotel website. 0 = transaction incurred from a third party travel website\n",
    "* **PROD_NAME**: the product purchased by the household. ex: hotel or packages\n",
    "* **PROD_TOTPRICE**: total price paid for this transaction\n",
    "* **REF_DOMAIN_NAME**: the referring website (aka domain) name through which the final purchase websited was made\n",
    "* **DURATION**: total time spent at a site (in minutes)\n",
    "* **PAGES_VIEWED**: total pages viewed at a site\n",
    "* **HOUSEHOLD_SIZE**: total # of people in the household\n",
    "* **CHILDREN_D**: dummary variable. indicates whether household has any children\n",
    "* **CONNECTIONSPEED_D**: dummy variable. indicates whether household has a high speed connection\n",
    "***"
   ]
  },
  {
   "cell_type": "markdown",
   "metadata": {},
   "source": [
    "Create the following 2 additional variables into your data:\n",
    "\n",
    "- REF_D\n",
    "    - dummy variable indicating whether the transaction was referenced from other website or if the final booking website was directly accessed.\n",
    "    - If no information provided for the variable REF_DOMAIN_NAME..\n",
    "        - REF_D = 0; otherwise REF_D = 1\n",
    "- LOG_PRICE\n",
    "    - take the log transformation of the variable PROD_TOTPRICE"
   ]
  },
  {
   "cell_type": "code",
   "execution_count": 1,
   "metadata": {},
   "outputs": [],
   "source": [
    "import pandas as pd\n",
    "import numpy as np"
   ]
  },
  {
   "cell_type": "code",
   "execution_count": 2,
   "metadata": {},
   "outputs": [
    {
     "data": {
      "text/html": [
       "<div>\n",
       "<style scoped>\n",
       "    .dataframe tbody tr th:only-of-type {\n",
       "        vertical-align: middle;\n",
       "    }\n",
       "\n",
       "    .dataframe tbody tr th {\n",
       "        vertical-align: top;\n",
       "    }\n",
       "\n",
       "    .dataframe thead th {\n",
       "        text-align: right;\n",
       "    }\n",
       "</style>\n",
       "<table border=\"1\" class=\"dataframe\">\n",
       "  <thead>\n",
       "    <tr style=\"text-align: right;\">\n",
       "      <th></th>\n",
       "      <th>ID</th>\n",
       "      <th>DOMAIN_ID</th>\n",
       "      <th>MACHINE_ID</th>\n",
       "      <th>SITE_SESSION_ID</th>\n",
       "      <th>TRANS_FREQ</th>\n",
       "      <th>DOMAIN_NAME</th>\n",
       "      <th>DIRECTP_D</th>\n",
       "      <th>PROD_NAME</th>\n",
       "      <th>PROD_QTY</th>\n",
       "      <th>PROD_TOTPRICE</th>\n",
       "      <th>REF_DOMAIN_NAME</th>\n",
       "      <th>DURATION</th>\n",
       "      <th>PAGES_VIEWED</th>\n",
       "      <th>HOUSEHOLD_SIZE</th>\n",
       "      <th>CHILDREN_D</th>\n",
       "      <th>CONNECTIONSPEED_D</th>\n",
       "    </tr>\n",
       "  </thead>\n",
       "  <tbody>\n",
       "    <tr>\n",
       "      <th>0</th>\n",
       "      <td>1525</td>\n",
       "      <td>13877604970862366012</td>\n",
       "      <td>85643811</td>\n",
       "      <td>4447900536932</td>\n",
       "      <td>1</td>\n",
       "      <td>ichotelsgroup.com</td>\n",
       "      <td>1</td>\n",
       "      <td>FT. LAUDERDALE AIRPORT/CRUISE - CROWNE PLAZA H...</td>\n",
       "      <td>32</td>\n",
       "      <td>2847.039993</td>\n",
       "      <td>NaN</td>\n",
       "      <td>23.328125</td>\n",
       "      <td>13</td>\n",
       "      <td>6</td>\n",
       "      <td>1</td>\n",
       "      <td>1</td>\n",
       "    </tr>\n",
       "    <tr>\n",
       "      <th>1</th>\n",
       "      <td>402</td>\n",
       "      <td>7101213156062330967</td>\n",
       "      <td>76460408</td>\n",
       "      <td>71774258860245</td>\n",
       "      <td>1</td>\n",
       "      <td>orbitz.com</td>\n",
       "      <td>0</td>\n",
       "      <td>WALT DISNEY WORLD MAGIC YOUR WAY TICKETS! N/A</td>\n",
       "      <td>1</td>\n",
       "      <td>2406.939995</td>\n",
       "      <td>yahoo.com</td>\n",
       "      <td>47.109375</td>\n",
       "      <td>17</td>\n",
       "      <td>2</td>\n",
       "      <td>1</td>\n",
       "      <td>1</td>\n",
       "    </tr>\n",
       "    <tr>\n",
       "      <th>2</th>\n",
       "      <td>233</td>\n",
       "      <td>7772350535129410931</td>\n",
       "      <td>74286590</td>\n",
       "      <td>3825866182640</td>\n",
       "      <td>1</td>\n",
       "      <td>hyatt.com</td>\n",
       "      <td>1</td>\n",
       "      <td>HYATT REGENCY MAUI RESORT  SPA FRI 11 MAR 2011...</td>\n",
       "      <td>5</td>\n",
       "      <td>2168.000000</td>\n",
       "      <td>google.com</td>\n",
       "      <td>20.058594</td>\n",
       "      <td>19</td>\n",
       "      <td>1</td>\n",
       "      <td>0</td>\n",
       "      <td>1</td>\n",
       "    </tr>\n",
       "    <tr>\n",
       "      <th>3</th>\n",
       "      <td>2362</td>\n",
       "      <td>9530952911301729568</td>\n",
       "      <td>90015830</td>\n",
       "      <td>70000481538306</td>\n",
       "      <td>1</td>\n",
       "      <td>expedia.com</td>\n",
       "      <td>0</td>\n",
       "      <td>HOTEL - THE ADDRESS DUBAI MARINA ~SAT DEC/10/2...</td>\n",
       "      <td>5</td>\n",
       "      <td>1958.699997</td>\n",
       "      <td>NaN</td>\n",
       "      <td>47.546875</td>\n",
       "      <td>39</td>\n",
       "      <td>1</td>\n",
       "      <td>0</td>\n",
       "      <td>1</td>\n",
       "    </tr>\n",
       "    <tr>\n",
       "      <th>4</th>\n",
       "      <td>2738</td>\n",
       "      <td>4024709573451844450</td>\n",
       "      <td>91435029</td>\n",
       "      <td>5158448795791</td>\n",
       "      <td>2</td>\n",
       "      <td>starwoodhotels.com</td>\n",
       "      <td>1</td>\n",
       "      <td>HOTEL-W NEW YORK - TIMES SQUARE 08/18~08/21</td>\n",
       "      <td>3</td>\n",
       "      <td>1797.000000</td>\n",
       "      <td>whotels.com</td>\n",
       "      <td>14.599609</td>\n",
       "      <td>19</td>\n",
       "      <td>1</td>\n",
       "      <td>0</td>\n",
       "      <td>1</td>\n",
       "    </tr>\n",
       "  </tbody>\n",
       "</table>\n",
       "</div>"
      ],
      "text/plain": [
       "     ID             DOMAIN_ID  MACHINE_ID  SITE_SESSION_ID  TRANS_FREQ  \\\n",
       "0  1525  13877604970862366012    85643811    4447900536932           1   \n",
       "1   402   7101213156062330967    76460408   71774258860245           1   \n",
       "2   233   7772350535129410931    74286590    3825866182640           1   \n",
       "3  2362   9530952911301729568    90015830   70000481538306           1   \n",
       "4  2738   4024709573451844450    91435029    5158448795791           2   \n",
       "\n",
       "          DOMAIN_NAME  DIRECTP_D  \\\n",
       "0   ichotelsgroup.com          1   \n",
       "1          orbitz.com          0   \n",
       "2           hyatt.com          1   \n",
       "3         expedia.com          0   \n",
       "4  starwoodhotels.com          1   \n",
       "\n",
       "                                           PROD_NAME  PROD_QTY  PROD_TOTPRICE  \\\n",
       "0  FT. LAUDERDALE AIRPORT/CRUISE - CROWNE PLAZA H...        32    2847.039993   \n",
       "1      WALT DISNEY WORLD MAGIC YOUR WAY TICKETS! N/A         1    2406.939995   \n",
       "2  HYATT REGENCY MAUI RESORT  SPA FRI 11 MAR 2011...         5    2168.000000   \n",
       "3  HOTEL - THE ADDRESS DUBAI MARINA ~SAT DEC/10/2...         5    1958.699997   \n",
       "4        HOTEL-W NEW YORK - TIMES SQUARE 08/18~08/21         3    1797.000000   \n",
       "\n",
       "  REF_DOMAIN_NAME   DURATION  PAGES_VIEWED  HOUSEHOLD_SIZE  CHILDREN_D  \\\n",
       "0             NaN  23.328125            13               6           1   \n",
       "1       yahoo.com  47.109375            17               2           1   \n",
       "2      google.com  20.058594            19               1           0   \n",
       "3             NaN  47.546875            39               1           0   \n",
       "4     whotels.com  14.599609            19               1           0   \n",
       "\n",
       "   CONNECTIONSPEED_D  \n",
       "0                  1  \n",
       "1                  1  \n",
       "2                  1  \n",
       "3                  1  \n",
       "4                  1  "
      ]
     },
     "execution_count": 2,
     "metadata": {},
     "output_type": "execute_result"
    }
   ],
   "source": [
    "data = pd.read_excel('HotelClickStream.xls')\n",
    "data.head()"
   ]
  },
  {
   "cell_type": "code",
   "execution_count": 3,
   "metadata": {},
   "outputs": [
    {
     "name": "stdout",
     "output_type": "stream",
     "text": [
      "<class 'pandas.core.frame.DataFrame'>\n",
      "RangeIndex: 3749 entries, 0 to 3748\n",
      "Data columns (total 16 columns):\n",
      "ID                   3749 non-null int64\n",
      "DOMAIN_ID            3749 non-null uint64\n",
      "MACHINE_ID           3749 non-null int64\n",
      "SITE_SESSION_ID      3749 non-null int64\n",
      "TRANS_FREQ           3749 non-null int64\n",
      "DOMAIN_NAME          3749 non-null object\n",
      "DIRECTP_D            3749 non-null int64\n",
      "PROD_NAME            3749 non-null object\n",
      "PROD_QTY             3749 non-null int64\n",
      "PROD_TOTPRICE        3749 non-null float64\n",
      "REF_DOMAIN_NAME      1687 non-null object\n",
      "DURATION             3749 non-null float64\n",
      "PAGES_VIEWED         3749 non-null int64\n",
      "HOUSEHOLD_SIZE       3749 non-null int64\n",
      "CHILDREN_D           3749 non-null int64\n",
      "CONNECTIONSPEED_D    3749 non-null int64\n",
      "dtypes: float64(2), int64(10), object(3), uint64(1)\n",
      "memory usage: 468.7+ KB\n"
     ]
    }
   ],
   "source": [
    "data.info()"
   ]
  },
  {
   "cell_type": "markdown",
   "metadata": {},
   "source": [
    "REF_DOMAIN_NAME is the only column in dataset that has nulls. Replace them with 0 for this project."
   ]
  },
  {
   "cell_type": "code",
   "execution_count": 4,
   "metadata": {},
   "outputs": [],
   "source": [
    "data['REF_DOMAIN_NAME'] = data['REF_DOMAIN_NAME'].replace(np.nan, 0)"
   ]
  },
  {
   "cell_type": "markdown",
   "metadata": {},
   "source": [
    "Check data again..."
   ]
  },
  {
   "cell_type": "code",
   "execution_count": 5,
   "metadata": {},
   "outputs": [
    {
     "name": "stdout",
     "output_type": "stream",
     "text": [
      "<class 'pandas.core.frame.DataFrame'>\n",
      "RangeIndex: 3749 entries, 0 to 3748\n",
      "Data columns (total 16 columns):\n",
      "ID                   3749 non-null int64\n",
      "DOMAIN_ID            3749 non-null uint64\n",
      "MACHINE_ID           3749 non-null int64\n",
      "SITE_SESSION_ID      3749 non-null int64\n",
      "TRANS_FREQ           3749 non-null int64\n",
      "DOMAIN_NAME          3749 non-null object\n",
      "DIRECTP_D            3749 non-null int64\n",
      "PROD_NAME            3749 non-null object\n",
      "PROD_QTY             3749 non-null int64\n",
      "PROD_TOTPRICE        3749 non-null float64\n",
      "REF_DOMAIN_NAME      3749 non-null object\n",
      "DURATION             3749 non-null float64\n",
      "PAGES_VIEWED         3749 non-null int64\n",
      "HOUSEHOLD_SIZE       3749 non-null int64\n",
      "CHILDREN_D           3749 non-null int64\n",
      "CONNECTIONSPEED_D    3749 non-null int64\n",
      "dtypes: float64(2), int64(10), object(3), uint64(1)\n",
      "memory usage: 468.7+ KB\n"
     ]
    }
   ],
   "source": [
    "data.info()"
   ]
  },
  {
   "cell_type": "markdown",
   "metadata": {},
   "source": [
    "#### REF_D"
   ]
  },
  {
   "cell_type": "markdown",
   "metadata": {},
   "source": [
    "We are creating a new variable called REF_D from the REF_DOMAIN_NAME column.\n",
    "\n",
    "REF_DOMAIN_NAME is of object datatype which means it is categorical and needs to be converted to a numerical variable. "
   ]
  },
  {
   "cell_type": "code",
   "execution_count": 6,
   "metadata": {},
   "outputs": [],
   "source": [
    "def label_domain (row):\n",
    "    if row['REF_DOMAIN_NAME'] == 0:\n",
    "        return '0'\n",
    "    else:\n",
    "        return '1'"
   ]
  },
  {
   "cell_type": "code",
   "execution_count": 7,
   "metadata": {},
   "outputs": [],
   "source": [
    "data['REF_D'] = data.apply (lambda row: label_domain(row), axis=1)"
   ]
  },
  {
   "cell_type": "code",
   "execution_count": 8,
   "metadata": {},
   "outputs": [
    {
     "data": {
      "text/html": [
       "<div>\n",
       "<style scoped>\n",
       "    .dataframe tbody tr th:only-of-type {\n",
       "        vertical-align: middle;\n",
       "    }\n",
       "\n",
       "    .dataframe tbody tr th {\n",
       "        vertical-align: top;\n",
       "    }\n",
       "\n",
       "    .dataframe thead th {\n",
       "        text-align: right;\n",
       "    }\n",
       "</style>\n",
       "<table border=\"1\" class=\"dataframe\">\n",
       "  <thead>\n",
       "    <tr style=\"text-align: right;\">\n",
       "      <th></th>\n",
       "      <th>ID</th>\n",
       "      <th>DOMAIN_ID</th>\n",
       "      <th>MACHINE_ID</th>\n",
       "      <th>SITE_SESSION_ID</th>\n",
       "      <th>TRANS_FREQ</th>\n",
       "      <th>DOMAIN_NAME</th>\n",
       "      <th>DIRECTP_D</th>\n",
       "      <th>PROD_NAME</th>\n",
       "      <th>PROD_QTY</th>\n",
       "      <th>PROD_TOTPRICE</th>\n",
       "      <th>REF_DOMAIN_NAME</th>\n",
       "      <th>DURATION</th>\n",
       "      <th>PAGES_VIEWED</th>\n",
       "      <th>HOUSEHOLD_SIZE</th>\n",
       "      <th>CHILDREN_D</th>\n",
       "      <th>CONNECTIONSPEED_D</th>\n",
       "      <th>REF_D</th>\n",
       "    </tr>\n",
       "  </thead>\n",
       "  <tbody>\n",
       "    <tr>\n",
       "      <th>0</th>\n",
       "      <td>1525</td>\n",
       "      <td>13877604970862366012</td>\n",
       "      <td>85643811</td>\n",
       "      <td>4447900536932</td>\n",
       "      <td>1</td>\n",
       "      <td>ichotelsgroup.com</td>\n",
       "      <td>1</td>\n",
       "      <td>FT. LAUDERDALE AIRPORT/CRUISE - CROWNE PLAZA H...</td>\n",
       "      <td>32</td>\n",
       "      <td>2847.039993</td>\n",
       "      <td>0</td>\n",
       "      <td>23.328125</td>\n",
       "      <td>13</td>\n",
       "      <td>6</td>\n",
       "      <td>1</td>\n",
       "      <td>1</td>\n",
       "      <td>0</td>\n",
       "    </tr>\n",
       "    <tr>\n",
       "      <th>1</th>\n",
       "      <td>402</td>\n",
       "      <td>7101213156062330967</td>\n",
       "      <td>76460408</td>\n",
       "      <td>71774258860245</td>\n",
       "      <td>1</td>\n",
       "      <td>orbitz.com</td>\n",
       "      <td>0</td>\n",
       "      <td>WALT DISNEY WORLD MAGIC YOUR WAY TICKETS! N/A</td>\n",
       "      <td>1</td>\n",
       "      <td>2406.939995</td>\n",
       "      <td>yahoo.com</td>\n",
       "      <td>47.109375</td>\n",
       "      <td>17</td>\n",
       "      <td>2</td>\n",
       "      <td>1</td>\n",
       "      <td>1</td>\n",
       "      <td>1</td>\n",
       "    </tr>\n",
       "    <tr>\n",
       "      <th>2</th>\n",
       "      <td>233</td>\n",
       "      <td>7772350535129410931</td>\n",
       "      <td>74286590</td>\n",
       "      <td>3825866182640</td>\n",
       "      <td>1</td>\n",
       "      <td>hyatt.com</td>\n",
       "      <td>1</td>\n",
       "      <td>HYATT REGENCY MAUI RESORT  SPA FRI 11 MAR 2011...</td>\n",
       "      <td>5</td>\n",
       "      <td>2168.000000</td>\n",
       "      <td>google.com</td>\n",
       "      <td>20.058594</td>\n",
       "      <td>19</td>\n",
       "      <td>1</td>\n",
       "      <td>0</td>\n",
       "      <td>1</td>\n",
       "      <td>1</td>\n",
       "    </tr>\n",
       "    <tr>\n",
       "      <th>3</th>\n",
       "      <td>2362</td>\n",
       "      <td>9530952911301729568</td>\n",
       "      <td>90015830</td>\n",
       "      <td>70000481538306</td>\n",
       "      <td>1</td>\n",
       "      <td>expedia.com</td>\n",
       "      <td>0</td>\n",
       "      <td>HOTEL - THE ADDRESS DUBAI MARINA ~SAT DEC/10/2...</td>\n",
       "      <td>5</td>\n",
       "      <td>1958.699997</td>\n",
       "      <td>0</td>\n",
       "      <td>47.546875</td>\n",
       "      <td>39</td>\n",
       "      <td>1</td>\n",
       "      <td>0</td>\n",
       "      <td>1</td>\n",
       "      <td>0</td>\n",
       "    </tr>\n",
       "    <tr>\n",
       "      <th>4</th>\n",
       "      <td>2738</td>\n",
       "      <td>4024709573451844450</td>\n",
       "      <td>91435029</td>\n",
       "      <td>5158448795791</td>\n",
       "      <td>2</td>\n",
       "      <td>starwoodhotels.com</td>\n",
       "      <td>1</td>\n",
       "      <td>HOTEL-W NEW YORK - TIMES SQUARE 08/18~08/21</td>\n",
       "      <td>3</td>\n",
       "      <td>1797.000000</td>\n",
       "      <td>whotels.com</td>\n",
       "      <td>14.599609</td>\n",
       "      <td>19</td>\n",
       "      <td>1</td>\n",
       "      <td>0</td>\n",
       "      <td>1</td>\n",
       "      <td>1</td>\n",
       "    </tr>\n",
       "  </tbody>\n",
       "</table>\n",
       "</div>"
      ],
      "text/plain": [
       "     ID             DOMAIN_ID  MACHINE_ID  SITE_SESSION_ID  TRANS_FREQ  \\\n",
       "0  1525  13877604970862366012    85643811    4447900536932           1   \n",
       "1   402   7101213156062330967    76460408   71774258860245           1   \n",
       "2   233   7772350535129410931    74286590    3825866182640           1   \n",
       "3  2362   9530952911301729568    90015830   70000481538306           1   \n",
       "4  2738   4024709573451844450    91435029    5158448795791           2   \n",
       "\n",
       "          DOMAIN_NAME  DIRECTP_D  \\\n",
       "0   ichotelsgroup.com          1   \n",
       "1          orbitz.com          0   \n",
       "2           hyatt.com          1   \n",
       "3         expedia.com          0   \n",
       "4  starwoodhotels.com          1   \n",
       "\n",
       "                                           PROD_NAME  PROD_QTY  PROD_TOTPRICE  \\\n",
       "0  FT. LAUDERDALE AIRPORT/CRUISE - CROWNE PLAZA H...        32    2847.039993   \n",
       "1      WALT DISNEY WORLD MAGIC YOUR WAY TICKETS! N/A         1    2406.939995   \n",
       "2  HYATT REGENCY MAUI RESORT  SPA FRI 11 MAR 2011...         5    2168.000000   \n",
       "3  HOTEL - THE ADDRESS DUBAI MARINA ~SAT DEC/10/2...         5    1958.699997   \n",
       "4        HOTEL-W NEW YORK - TIMES SQUARE 08/18~08/21         3    1797.000000   \n",
       "\n",
       "  REF_DOMAIN_NAME   DURATION  PAGES_VIEWED  HOUSEHOLD_SIZE  CHILDREN_D  \\\n",
       "0               0  23.328125            13               6           1   \n",
       "1       yahoo.com  47.109375            17               2           1   \n",
       "2      google.com  20.058594            19               1           0   \n",
       "3               0  47.546875            39               1           0   \n",
       "4     whotels.com  14.599609            19               1           0   \n",
       "\n",
       "   CONNECTIONSPEED_D REF_D  \n",
       "0                  1     0  \n",
       "1                  1     1  \n",
       "2                  1     1  \n",
       "3                  1     0  \n",
       "4                  1     1  "
      ]
     },
     "execution_count": 8,
     "metadata": {},
     "output_type": "execute_result"
    }
   ],
   "source": [
    "data.head()"
   ]
  },
  {
   "cell_type": "code",
   "execution_count": 9,
   "metadata": {},
   "outputs": [],
   "source": [
    "data['REF_D'] = data['REF_D'].astype(int)"
   ]
  },
  {
   "cell_type": "code",
   "execution_count": 10,
   "metadata": {},
   "outputs": [
    {
     "name": "stdout",
     "output_type": "stream",
     "text": [
      "<class 'pandas.core.frame.DataFrame'>\n",
      "RangeIndex: 3749 entries, 0 to 3748\n",
      "Data columns (total 17 columns):\n",
      "ID                   3749 non-null int64\n",
      "DOMAIN_ID            3749 non-null uint64\n",
      "MACHINE_ID           3749 non-null int64\n",
      "SITE_SESSION_ID      3749 non-null int64\n",
      "TRANS_FREQ           3749 non-null int64\n",
      "DOMAIN_NAME          3749 non-null object\n",
      "DIRECTP_D            3749 non-null int64\n",
      "PROD_NAME            3749 non-null object\n",
      "PROD_QTY             3749 non-null int64\n",
      "PROD_TOTPRICE        3749 non-null float64\n",
      "REF_DOMAIN_NAME      3749 non-null object\n",
      "DURATION             3749 non-null float64\n",
      "PAGES_VIEWED         3749 non-null int64\n",
      "HOUSEHOLD_SIZE       3749 non-null int64\n",
      "CHILDREN_D           3749 non-null int64\n",
      "CONNECTIONSPEED_D    3749 non-null int64\n",
      "REF_D                3749 non-null int32\n",
      "dtypes: float64(2), int32(1), int64(10), object(3), uint64(1)\n",
      "memory usage: 483.3+ KB\n"
     ]
    }
   ],
   "source": [
    "data.info()"
   ]
  },
  {
   "cell_type": "markdown",
   "metadata": {},
   "source": [
    "#### LOG_PRICE\n",
    "\n",
    "Some prices are 0, therefore, np.log() does not work.\n",
    "\n",
    "Use np.log1p() instead."
   ]
  },
  {
   "cell_type": "code",
   "execution_count": 11,
   "metadata": {},
   "outputs": [],
   "source": [
    "data['LOG_PRICE'] = np.log1p(data['PROD_TOTPRICE'])"
   ]
  },
  {
   "cell_type": "code",
   "execution_count": 12,
   "metadata": {},
   "outputs": [
    {
     "data": {
      "text/html": [
       "<div>\n",
       "<style scoped>\n",
       "    .dataframe tbody tr th:only-of-type {\n",
       "        vertical-align: middle;\n",
       "    }\n",
       "\n",
       "    .dataframe tbody tr th {\n",
       "        vertical-align: top;\n",
       "    }\n",
       "\n",
       "    .dataframe thead th {\n",
       "        text-align: right;\n",
       "    }\n",
       "</style>\n",
       "<table border=\"1\" class=\"dataframe\">\n",
       "  <thead>\n",
       "    <tr style=\"text-align: right;\">\n",
       "      <th></th>\n",
       "      <th>ID</th>\n",
       "      <th>DOMAIN_ID</th>\n",
       "      <th>MACHINE_ID</th>\n",
       "      <th>SITE_SESSION_ID</th>\n",
       "      <th>TRANS_FREQ</th>\n",
       "      <th>DOMAIN_NAME</th>\n",
       "      <th>DIRECTP_D</th>\n",
       "      <th>PROD_NAME</th>\n",
       "      <th>PROD_QTY</th>\n",
       "      <th>PROD_TOTPRICE</th>\n",
       "      <th>REF_DOMAIN_NAME</th>\n",
       "      <th>DURATION</th>\n",
       "      <th>PAGES_VIEWED</th>\n",
       "      <th>HOUSEHOLD_SIZE</th>\n",
       "      <th>CHILDREN_D</th>\n",
       "      <th>CONNECTIONSPEED_D</th>\n",
       "      <th>REF_D</th>\n",
       "      <th>LOG_PRICE</th>\n",
       "    </tr>\n",
       "  </thead>\n",
       "  <tbody>\n",
       "    <tr>\n",
       "      <th>0</th>\n",
       "      <td>1525</td>\n",
       "      <td>13877604970862366012</td>\n",
       "      <td>85643811</td>\n",
       "      <td>4447900536932</td>\n",
       "      <td>1</td>\n",
       "      <td>ichotelsgroup.com</td>\n",
       "      <td>1</td>\n",
       "      <td>FT. LAUDERDALE AIRPORT/CRUISE - CROWNE PLAZA H...</td>\n",
       "      <td>32</td>\n",
       "      <td>2847.039993</td>\n",
       "      <td>0</td>\n",
       "      <td>23.328125</td>\n",
       "      <td>13</td>\n",
       "      <td>6</td>\n",
       "      <td>1</td>\n",
       "      <td>1</td>\n",
       "      <td>0</td>\n",
       "      <td>7.954386</td>\n",
       "    </tr>\n",
       "    <tr>\n",
       "      <th>1</th>\n",
       "      <td>402</td>\n",
       "      <td>7101213156062330967</td>\n",
       "      <td>76460408</td>\n",
       "      <td>71774258860245</td>\n",
       "      <td>1</td>\n",
       "      <td>orbitz.com</td>\n",
       "      <td>0</td>\n",
       "      <td>WALT DISNEY WORLD MAGIC YOUR WAY TICKETS! N/A</td>\n",
       "      <td>1</td>\n",
       "      <td>2406.939995</td>\n",
       "      <td>yahoo.com</td>\n",
       "      <td>47.109375</td>\n",
       "      <td>17</td>\n",
       "      <td>2</td>\n",
       "      <td>1</td>\n",
       "      <td>1</td>\n",
       "      <td>1</td>\n",
       "      <td>7.786527</td>\n",
       "    </tr>\n",
       "    <tr>\n",
       "      <th>2</th>\n",
       "      <td>233</td>\n",
       "      <td>7772350535129410931</td>\n",
       "      <td>74286590</td>\n",
       "      <td>3825866182640</td>\n",
       "      <td>1</td>\n",
       "      <td>hyatt.com</td>\n",
       "      <td>1</td>\n",
       "      <td>HYATT REGENCY MAUI RESORT  SPA FRI 11 MAR 2011...</td>\n",
       "      <td>5</td>\n",
       "      <td>2168.000000</td>\n",
       "      <td>google.com</td>\n",
       "      <td>20.058594</td>\n",
       "      <td>19</td>\n",
       "      <td>1</td>\n",
       "      <td>0</td>\n",
       "      <td>1</td>\n",
       "      <td>1</td>\n",
       "      <td>7.682022</td>\n",
       "    </tr>\n",
       "    <tr>\n",
       "      <th>3</th>\n",
       "      <td>2362</td>\n",
       "      <td>9530952911301729568</td>\n",
       "      <td>90015830</td>\n",
       "      <td>70000481538306</td>\n",
       "      <td>1</td>\n",
       "      <td>expedia.com</td>\n",
       "      <td>0</td>\n",
       "      <td>HOTEL - THE ADDRESS DUBAI MARINA ~SAT DEC/10/2...</td>\n",
       "      <td>5</td>\n",
       "      <td>1958.699997</td>\n",
       "      <td>0</td>\n",
       "      <td>47.546875</td>\n",
       "      <td>39</td>\n",
       "      <td>1</td>\n",
       "      <td>0</td>\n",
       "      <td>1</td>\n",
       "      <td>0</td>\n",
       "      <td>7.580547</td>\n",
       "    </tr>\n",
       "    <tr>\n",
       "      <th>4</th>\n",
       "      <td>2738</td>\n",
       "      <td>4024709573451844450</td>\n",
       "      <td>91435029</td>\n",
       "      <td>5158448795791</td>\n",
       "      <td>2</td>\n",
       "      <td>starwoodhotels.com</td>\n",
       "      <td>1</td>\n",
       "      <td>HOTEL-W NEW YORK - TIMES SQUARE 08/18~08/21</td>\n",
       "      <td>3</td>\n",
       "      <td>1797.000000</td>\n",
       "      <td>whotels.com</td>\n",
       "      <td>14.599609</td>\n",
       "      <td>19</td>\n",
       "      <td>1</td>\n",
       "      <td>0</td>\n",
       "      <td>1</td>\n",
       "      <td>1</td>\n",
       "      <td>7.494430</td>\n",
       "    </tr>\n",
       "  </tbody>\n",
       "</table>\n",
       "</div>"
      ],
      "text/plain": [
       "     ID             DOMAIN_ID  MACHINE_ID  SITE_SESSION_ID  TRANS_FREQ  \\\n",
       "0  1525  13877604970862366012    85643811    4447900536932           1   \n",
       "1   402   7101213156062330967    76460408   71774258860245           1   \n",
       "2   233   7772350535129410931    74286590    3825866182640           1   \n",
       "3  2362   9530952911301729568    90015830   70000481538306           1   \n",
       "4  2738   4024709573451844450    91435029    5158448795791           2   \n",
       "\n",
       "          DOMAIN_NAME  DIRECTP_D  \\\n",
       "0   ichotelsgroup.com          1   \n",
       "1          orbitz.com          0   \n",
       "2           hyatt.com          1   \n",
       "3         expedia.com          0   \n",
       "4  starwoodhotels.com          1   \n",
       "\n",
       "                                           PROD_NAME  PROD_QTY  PROD_TOTPRICE  \\\n",
       "0  FT. LAUDERDALE AIRPORT/CRUISE - CROWNE PLAZA H...        32    2847.039993   \n",
       "1      WALT DISNEY WORLD MAGIC YOUR WAY TICKETS! N/A         1    2406.939995   \n",
       "2  HYATT REGENCY MAUI RESORT  SPA FRI 11 MAR 2011...         5    2168.000000   \n",
       "3  HOTEL - THE ADDRESS DUBAI MARINA ~SAT DEC/10/2...         5    1958.699997   \n",
       "4        HOTEL-W NEW YORK - TIMES SQUARE 08/18~08/21         3    1797.000000   \n",
       "\n",
       "  REF_DOMAIN_NAME   DURATION  PAGES_VIEWED  HOUSEHOLD_SIZE  CHILDREN_D  \\\n",
       "0               0  23.328125            13               6           1   \n",
       "1       yahoo.com  47.109375            17               2           1   \n",
       "2      google.com  20.058594            19               1           0   \n",
       "3               0  47.546875            39               1           0   \n",
       "4     whotels.com  14.599609            19               1           0   \n",
       "\n",
       "   CONNECTIONSPEED_D  REF_D  LOG_PRICE  \n",
       "0                  1      0   7.954386  \n",
       "1                  1      1   7.786527  \n",
       "2                  1      1   7.682022  \n",
       "3                  1      0   7.580547  \n",
       "4                  1      1   7.494430  "
      ]
     },
     "execution_count": 12,
     "metadata": {},
     "output_type": "execute_result"
    }
   ],
   "source": [
    "data.head()"
   ]
  },
  {
   "cell_type": "code",
   "execution_count": 13,
   "metadata": {},
   "outputs": [
    {
     "data": {
      "text/plain": [
       "Index(['ID', 'DOMAIN_ID', 'MACHINE_ID', 'SITE_SESSION_ID', 'TRANS_FREQ',\n",
       "       'DOMAIN_NAME', 'DIRECTP_D', 'PROD_NAME', 'PROD_QTY', 'PROD_TOTPRICE',\n",
       "       'REF_DOMAIN_NAME', 'DURATION', 'PAGES_VIEWED', 'HOUSEHOLD_SIZE',\n",
       "       'CHILDREN_D', 'CONNECTIONSPEED_D', 'REF_D', 'LOG_PRICE'],\n",
       "      dtype='object')"
      ]
     },
     "execution_count": 13,
     "metadata": {},
     "output_type": "execute_result"
    }
   ],
   "source": [
    "data.columns"
   ]
  },
  {
   "cell_type": "markdown",
   "metadata": {},
   "source": [
    "***\n",
    "# Part 1 - Logit\n",
    "\n",
    "Use Binary Outcome (Logistic/Logit) regression to answer..\n",
    "\n",
    "**“What are the factors that influence people’s decision on whether to book directly on a hotel website or from other third party website?”**\n",
    "\n",
    "- DV = DIRECTP_D\n",
    "- IV(s) = REF_D, LOG_PRICE, TRANS_FREQ, DURATION, HOUSEHOLD_SIZE, CHILDREN_D, CONNECTIONSPEED_D\n",
    "\n",
    "Report and interpret regression results -> include interpretation of each of the regression coefficients\n",
    "\n",
    "**BONUS!!**\n",
    "\n",
    "Given the regression results, your interpretation, and your experience/research on internet shopping, what kind of improvements should be made to the model?\n",
    "- IVs to be removed? OR \n",
    "- new IVs to be added? OR\n",
    "- Other regression methodologies?"
   ]
  },
  {
   "cell_type": "code",
   "execution_count": 14,
   "metadata": {},
   "outputs": [
    {
     "name": "stdout",
     "output_type": "stream",
     "text": [
      "<class 'pandas.core.frame.DataFrame'>\n",
      "RangeIndex: 3749 entries, 0 to 3748\n",
      "Data columns (total 18 columns):\n",
      "ID                   3749 non-null int64\n",
      "DOMAIN_ID            3749 non-null uint64\n",
      "MACHINE_ID           3749 non-null int64\n",
      "SITE_SESSION_ID      3749 non-null int64\n",
      "TRANS_FREQ           3749 non-null int64\n",
      "DOMAIN_NAME          3749 non-null object\n",
      "DIRECTP_D            3749 non-null int64\n",
      "PROD_NAME            3749 non-null object\n",
      "PROD_QTY             3749 non-null int64\n",
      "PROD_TOTPRICE        3749 non-null float64\n",
      "REF_DOMAIN_NAME      3749 non-null object\n",
      "DURATION             3749 non-null float64\n",
      "PAGES_VIEWED         3749 non-null int64\n",
      "HOUSEHOLD_SIZE       3749 non-null int64\n",
      "CHILDREN_D           3749 non-null int64\n",
      "CONNECTIONSPEED_D    3749 non-null int64\n",
      "REF_D                3749 non-null int32\n",
      "LOG_PRICE            3749 non-null float64\n",
      "dtypes: float64(3), int32(1), int64(10), object(3), uint64(1)\n",
      "memory usage: 512.6+ KB\n"
     ]
    }
   ],
   "source": [
    "data.info()"
   ]
  },
  {
   "cell_type": "code",
   "execution_count": 16,
   "metadata": {},
   "outputs": [],
   "source": [
    "import statsmodels.api as sm"
   ]
  },
  {
   "cell_type": "code",
   "execution_count": 17,
   "metadata": {},
   "outputs": [
    {
     "name": "stderr",
     "output_type": "stream",
     "text": [
      "C:\\Users\\Morgan Kaiser\\Anaconda3\\Anaconda\\New folder\\lib\\site-packages\\numpy\\core\\fromnumeric.py:2389: FutureWarning: Method .ptp is deprecated and will be removed in a future version. Use numpy.ptp instead.\n",
      "  return ptp(axis=axis, out=out, **kwargs)\n"
     ]
    }
   ],
   "source": [
    "# step 1: create x and y; add constant\n",
    "\n",
    "x = sm.add_constant(data[['REF_D', 'LOG_PRICE', 'TRANS_FREQ','DURATION',\n",
    "                          'HOUSEHOLD_SIZE', 'CHILDREN_D','CONNECTIONSPEED_D']])\n",
    "y = data.DIRECTP_D"
   ]
  },
  {
   "cell_type": "code",
   "execution_count": 18,
   "metadata": {},
   "outputs": [],
   "source": [
    "# step 2: build model\n",
    "\n",
    "logit_mod=sm.Logit(y,x)"
   ]
  },
  {
   "cell_type": "code",
   "execution_count": 19,
   "metadata": {},
   "outputs": [
    {
     "name": "stdout",
     "output_type": "stream",
     "text": [
      "Optimization terminated successfully.\n",
      "         Current function value: 0.643629\n",
      "         Iterations 6\n"
     ]
    }
   ],
   "source": [
    "# step 3: fit the model\n",
    "\n",
    "logit_res = logit_mod.fit()"
   ]
  },
  {
   "cell_type": "code",
   "execution_count": 20,
   "metadata": {},
   "outputs": [
    {
     "name": "stdout",
     "output_type": "stream",
     "text": [
      "                           Logit Regression Results                           \n",
      "==============================================================================\n",
      "Dep. Variable:              DIRECTP_D   No. Observations:                 3749\n",
      "Model:                          Logit   Df Residuals:                     3741\n",
      "Method:                           MLE   Df Model:                            7\n",
      "Date:                Wed, 08 Apr 2020   Pseudo R-squ.:                 0.07052\n",
      "Time:                        12:29:44   Log-Likelihood:                -2413.0\n",
      "converged:                       True   LL-Null:                       -2596.0\n",
      "Covariance Type:            nonrobust   LLR p-value:                 4.323e-75\n",
      "=====================================================================================\n",
      "                        coef    std err          z      P>|z|      [0.025      0.975]\n",
      "-------------------------------------------------------------------------------------\n",
      "const                -0.4457      0.407     -1.095      0.273      -1.243       0.352\n",
      "REF_D                 0.7364      0.070     10.571      0.000       0.600       0.873\n",
      "LOG_PRICE             0.0014      0.021      0.066      0.947      -0.041       0.043\n",
      "TRANS_FREQ            0.1156      0.012      9.943      0.000       0.093       0.138\n",
      "DURATION             -0.0188      0.002    -11.032      0.000      -0.022      -0.015\n",
      "HOUSEHOLD_SIZE       -0.0110      0.008     -1.301      0.193      -0.028       0.006\n",
      "CHILDREN_D            0.2556      0.072      3.528      0.000       0.114       0.398\n",
      "CONNECTIONSPEED_D     0.0487      0.391      0.125      0.901      -0.718       0.815\n",
      "=====================================================================================\n"
     ]
    }
   ],
   "source": [
    "# step 4: inspect results using summary stats\n",
    "\n",
    "print(logit_res.summary())"
   ]
  },
  {
   "cell_type": "markdown",
   "metadata": {},
   "source": [
    "### Logistic Regression Observations (separated by IV)\n",
    "\n",
    "*note: DV = log(DIRECTP_D)*\n",
    "\n",
    "#### REF_D\n",
    "- A one unit increase is associated with a 0.74 increase in DV\n",
    "- P < 0.05 -> statistically significant\n",
    "- Being positive likely means that if the customer visited a third party website they were more likely to purchase their tickets there instead\n",
    "\n",
    "#### LOG_PRICE\n",
    "- A one unit increase is associated with a 0.0014 increase in DV\n",
    "- P > 0.05 -> **NOT statistically significant**\n",
    "- Being negative hints at their not being a large difference in price between third party sites and the home site\n",
    "\n",
    "#### TRANS_FREQ\n",
    "- A one unit increase is associated with a 0.12 increase in DV\n",
    "- P < 0.05 -> statistically significant\n",
    "- More transactions per household likely means repeat customers that have positive/negative preferences about certaion sites\n",
    "\n",
    "#### DURATION\n",
    "- A one unit increase is associated with a 0.019 decrease in DV\n",
    "- P < 0.05 -> statistically significant\n",
    "- The longer individuals spent on the third party sight the more likely they were to purchase something\n",
    "\n",
    "#### HOUSEHOLD_SIZE\n",
    "- A one unit increase is associated with a 0.011 decrease in DV\n",
    "- P > 0.05 -> **NOT statistically significant**\n",
    "- It appears that having more individuals in a household does not garentee either using a home site or third party site\n",
    "\n",
    "#### CHILDREN_D\n",
    "- A one unit increase is associated with a 0.26 decrease in DV\n",
    "- P < 0.05 -> statistically significant\n",
    "- While having more individuals is not significant, having more children leads to a greater use of third party sights, likely due to kids deals\n",
    "\n",
    "#### CONNECTIONSPEED_D\n",
    "- A one unit increase is associated with a 0.049 increase in DV\n",
    "- P > 0.05 -> **NOT statistically significant**\n",
    "- Being able to connect to the internet is not related to being able to connect to individual sights as they would likely experience similar connection time\n",
    "\n",
    "\n",
    "### Equation - minus all variables/constant with p > 0.05\n",
    "DIRECTP_D = 0.74REF_D + 0.12TRANS_FREQ - 0.019DURATION + 0.26CHILDREN_D"
   ]
  },
  {
   "cell_type": "markdown",
   "metadata": {},
   "source": [
    "## Part 1 Bonus:"
   ]
  },
  {
   "cell_type": "markdown",
   "metadata": {},
   "source": [
    "- From our regression results and own personal experience, we believe that both HOUSEHOLD_SIZE and CONNECTIONSPEED_D can be   removed from the Independent Variable category. They are both Not statistically significant according to our model and from experience do not affect use of a home site or third pary site for booking.\n",
    "- Two new Independent Variables we believe may have some correlation is PROD_NAME and PROD_QTY. Our reasoning involves being able to purchase different levels of packages that may accomidate many people. An example, groupon, allows individuals to purchase tickets through a third party website when they have large groups, where as a couple that only needs two tickets would be more likely to shop on the direct site.\n",
    "- After looking into other regression models, we believe that a ridge regression model may be a useful alternate. It is very similar to a linear regression except for its use of a squared bias factor, which pulls in the \"ridgess\" of the data essentially reducing the variance of the data. This may be most useful for reigning in variable with high coefficients, like CHILDREN_D, or potentially the new variables we spoke to earlier."
   ]
  },
  {
   "cell_type": "markdown",
   "metadata": {},
   "source": [
    "***\n",
    "# Part 2 - Poisson\n",
    "Use Count Data (Poisson) regression model to answer...\n",
    "\n",
    "**“What are the factors that influence people’s booking frequencies?”**\n",
    "\n",
    "- DV = TRANS_FREQ\n",
    "- IV(s) = REF_D, LOG_PRICE, PAGES_VIEWED, HOUSEHOLD_SIZE, CHILDREN_D, CONNECTIONSPEED_D\n",
    "\n",
    "Report and interpret regression results -> include the interpretation of the regression coefficients."
   ]
  },
  {
   "cell_type": "code",
   "execution_count": 21,
   "metadata": {},
   "outputs": [],
   "source": [
    "# step 1: create x and y; add constant\n",
    "\n",
    "x = sm.add_constant(data[['REF_D', 'LOG_PRICE', 'PAGES_VIEWED',\n",
    "                          'HOUSEHOLD_SIZE', 'CHILDREN_D','CONNECTIONSPEED_D']])\n",
    "y = data.TRANS_FREQ"
   ]
  },
  {
   "cell_type": "code",
   "execution_count": 22,
   "metadata": {},
   "outputs": [],
   "source": [
    "# step 2: build model\n",
    "\n",
    "Poisson_mod = sm.Poisson(y,x)"
   ]
  },
  {
   "cell_type": "code",
   "execution_count": 23,
   "metadata": {},
   "outputs": [
    {
     "name": "stdout",
     "output_type": "stream",
     "text": [
      "Optimization terminated successfully.\n",
      "         Current function value: 2.808406\n",
      "         Iterations 6\n"
     ]
    }
   ],
   "source": [
    "# step 3: fit the model\n",
    "\n",
    "Poisson_res = Poisson_mod.fit()"
   ]
  },
  {
   "cell_type": "code",
   "execution_count": 24,
   "metadata": {},
   "outputs": [
    {
     "name": "stdout",
     "output_type": "stream",
     "text": [
      "                          Poisson Regression Results                          \n",
      "==============================================================================\n",
      "Dep. Variable:             TRANS_FREQ   No. Observations:                 3749\n",
      "Model:                        Poisson   Df Residuals:                     3742\n",
      "Method:                           MLE   Df Model:                            6\n",
      "Date:                Wed, 08 Apr 2020   Pseudo R-squ.:                 0.01729\n",
      "Time:                        12:29:58   Log-Likelihood:                -10529.\n",
      "converged:                       True   LL-Null:                       -10714.\n",
      "Covariance Type:            nonrobust   LLR p-value:                 5.967e-77\n",
      "=====================================================================================\n",
      "                        coef    std err          z      P>|z|      [0.025      0.975]\n",
      "-------------------------------------------------------------------------------------\n",
      "const                 0.4063      0.168      2.422      0.015       0.078       0.735\n",
      "REF_D                -0.2274      0.019    -11.745      0.000      -0.265      -0.189\n",
      "LOG_PRICE             0.0033      0.006      0.568      0.570      -0.008       0.015\n",
      "PAGES_VIEWED          0.0023      0.001      4.109      0.000       0.001       0.003\n",
      "HOUSEHOLD_SIZE       -0.0118      0.004     -3.186      0.001      -0.019      -0.005\n",
      "CHILDREN_D           -0.2329      0.020    -11.713      0.000      -0.272      -0.194\n",
      "CONNECTIONSPEED_D     0.9009      0.165      5.466      0.000       0.578       1.224\n",
      "=====================================================================================\n"
     ]
    }
   ],
   "source": [
    "# step 4: inspect results using summary stats\n",
    "\n",
    "print(f'{Poisson_res.summary()}')"
   ]
  },
  {
   "cell_type": "markdown",
   "metadata": {},
   "source": [
    "### Poisson Regression Observations (separated by IV)\n",
    "\n",
    "*note: DV = log(TRANS_FREQ)*\n",
    "\n",
    "#### REF_D\n",
    "- A one unit increase is associated with a 0.23 decrease in DV\n",
    "  - As a result, the **frequency of transactions will decrease by 26%.**\n",
    "- P < 0.05 -> statistically significant\n",
    "\n",
    "#### LOG_PRICE\n",
    "- A one unit increase is associated with a 0.0033 increase in DV\n",
    "  - As a result, the **frequency of transactions will increase by 0.33%.**\n",
    "- P > 0.05 -> **NOT statistically significant**\n",
    "\n",
    "#### PAGES_VIEWED\n",
    "- A one unit increase is associated with a 0.0023 increase in DV\n",
    "  - As a result, the **frequency of transactions will increase by 0.23%.**\n",
    "- P < 0.05 -> statistically significant\n",
    "\n",
    "#### HOUSEHOLD_SIZE\n",
    "- A one unit increase is associated with a 0.012 decrease in DV\n",
    "  - As a result, the **frequency of transactions will decrease by 0.12%.**\n",
    "- P < 0.05 -> statistically significant\n",
    "\n",
    "#### CHILDREN_D\n",
    "- A one unit increase is associated with a 0.23 decrease in DV\n",
    "  - As a result, the **frequency of transactions will decrease by 0.26%.**\n",
    "- P < 0.05 -> statistically significant\n",
    "\n",
    "#### CONNECTIONSPEED_D\n",
    "- A one unit increase is associated with a 0.90 increase in DV\n",
    "  - As a result, the **frequency of transactions will increase by 146%.**\n",
    "- P < 0.05 -> statistically significant  "
   ]
  },
  {
   "cell_type": "markdown",
   "metadata": {},
   "source": [
    "### Equation - minus variables with p > 0.05\n",
    "\n",
    "log(TRANS_FREQ) = 0.41 - 0.23REF_D + 0.0023PAGES_VIEWED - 0.012HOUSEHOLD_SIZE - 0.23CHILDREN_D + 0.90CONNECTIONSPEED_D"
   ]
  },
  {
   "cell_type": "markdown",
   "metadata": {},
   "source": [
    "### Math behind (%) calculations\n",
    "\n",
    "*exp = exponent; thus, exp(x) -> e^x)*\n",
    "\n",
    "#### REF_D\n",
    "\n",
    "(exp(0.23) - 1) * 100% = **26%**\n",
    "\n",
    "#### LOG_PRICE\n",
    "\n",
    "(exp(0.0033) - 1) * 100% = **0.33%**\n",
    "\n",
    "#### PAGES_VIEWED\n",
    "\n",
    "(exp(0.0023) - 1) * 100% = **0.23%**\n",
    "\n",
    "#### HOUSEHOLD_SIZE\n",
    "\n",
    "(exp(0.012) - 1) * 100% = **0.12%**\n",
    "\n",
    "#### CHILDREN_D\n",
    "\n",
    "(exp(0.23) - 1) * 100% = **26%**\n",
    "\n",
    "#### CONNECTIONSPEED_D\n",
    "\n",
    "(exp(0.90) - 1) * 100% = **146%**"
   ]
  },
  {
   "cell_type": "markdown",
   "metadata": {},
   "source": [
    "***\n",
    "# Part 3 - Negative Binomial\n",
    "Use Negative Binomial Regression model to answer...\n",
    "\n",
    "**“What are the factors that influence people’s booking frequencies?”**\n",
    "\n",
    "- DV = TRANS_FREQ\n",
    "- IV(s) = REF_D, LOG_PRICE, PAGES_VIEWED, HOUSEHOLD_SIZE, CHILDREN_D, CONNECTIONSPEED_D\n",
    "\n",
    "Report and interpret regression results -> include the interpretation of the regression coefficients"
   ]
  },
  {
   "cell_type": "code",
   "execution_count": 25,
   "metadata": {},
   "outputs": [],
   "source": [
    "# step 1: create x and y; add constant\n",
    "\n",
    "x = sm.add_constant(data[['REF_D', 'LOG_PRICE', 'PAGES_VIEWED',\n",
    "                          'HOUSEHOLD_SIZE', 'CHILDREN_D','CONNECTIONSPEED_D']])\n",
    "y = data.TRANS_FREQ"
   ]
  },
  {
   "cell_type": "code",
   "execution_count": 26,
   "metadata": {},
   "outputs": [],
   "source": [
    "# step 2: build model\n",
    "\n",
    "NB_mod = sm.GLM(y,x, family=sm.families.NegativeBinomial())"
   ]
  },
  {
   "cell_type": "code",
   "execution_count": 27,
   "metadata": {},
   "outputs": [],
   "source": [
    "# step 3: fit the model\n",
    "\n",
    "NB_res = NB_mod.fit()"
   ]
  },
  {
   "cell_type": "code",
   "execution_count": 28,
   "metadata": {},
   "outputs": [
    {
     "name": "stdout",
     "output_type": "stream",
     "text": [
      "                 Generalized Linear Model Regression Results                  \n",
      "==============================================================================\n",
      "Dep. Variable:             TRANS_FREQ   No. Observations:                 3749\n",
      "Model:                            GLM   Df Residuals:                     3742\n",
      "Model Family:        NegativeBinomial   Df Model:                            6\n",
      "Link Function:                    log   Scale:                          1.0000\n",
      "Method:                          IRLS   Log-Likelihood:                -8365.2\n",
      "Date:                Wed, 08 Apr 2020   Deviance:                       2280.8\n",
      "Time:                        12:30:04   Pearson chi2:                 5.24e+03\n",
      "No. Iterations:                    12                                         \n",
      "Covariance Type:            nonrobust                                         \n",
      "=====================================================================================\n",
      "                        coef    std err          z      P>|z|      [0.025      0.975]\n",
      "-------------------------------------------------------------------------------------\n",
      "const                 0.3971      0.257      1.543      0.123      -0.107       0.902\n",
      "REF_D                -0.2229      0.038     -5.832      0.000      -0.298      -0.148\n",
      "LOG_PRICE             0.0005      0.012      0.040      0.968      -0.023       0.024\n",
      "PAGES_VIEWED          0.0029      0.001      2.570      0.010       0.001       0.005\n",
      "HOUSEHOLD_SIZE       -0.0085      0.005     -1.669      0.095      -0.018       0.001\n",
      "CHILDREN_D           -0.2376      0.040     -6.012      0.000      -0.315      -0.160\n",
      "CONNECTIONSPEED_D     0.9010      0.250      3.606      0.000       0.411       1.391\n",
      "=====================================================================================\n"
     ]
    }
   ],
   "source": [
    "# step 4: inspect results using summary stats\n",
    "\n",
    "print(f'{NB_res.summary()}')"
   ]
  },
  {
   "cell_type": "markdown",
   "metadata": {},
   "source": [
    "### Negative Binomial Regression Observations (separated by IV)\n",
    "\n",
    "*note: alpha level of 2 was used aka default for NB*\n",
    "*note: DV = log(TRANS_FREQ)*\n",
    "\n",
    "#### REF_D\n",
    "- A one unit increase is associated with a 0.22 decrease in DV\n",
    "  - As a result, the **frequency of transactions will decrease by 25%.**\n",
    "- P < 0.05 -> statistically significant\n",
    "\n",
    "#### LOG_PRICE\n",
    "- A one unit increase is associated with a 0.0005 increase in DV\n",
    "  - As a result, the **frequency of transactions will increase by 0.05%.**\n",
    "- P > 0.05 -> **NOT statistically significant**\n",
    "\n",
    "#### PAGES_VIEWED\n",
    "- A one unit increase is associated with a 0.0029 increase in DV\n",
    "  - As a result, the **frequency of transactions will increase by 0.29%.**\n",
    "- P < 0.05 -> statistically significant\n",
    "\n",
    "#### HOUSEHOLD_SIZE\n",
    "- A one unit increase is associated with a 0.0085 decrease in DV\n",
    "  - As a result, the **frequency of transactions will decrease by 0.85%.**\n",
    "- P > 0.05 -> **NOT statistically significant**\n",
    "\n",
    "#### CHILDREN_D\n",
    "- A one unit increase is associated with a 0.24 decrease in DV\n",
    "  - As a result, the **frequency of transactions will decrease by 27%.**\n",
    "- P < 0.05 -> statistically significant\n",
    "\n",
    "#### CONNECTIONSPEED_D\n",
    "- A one unit increase is associated with a 0.90 increase in DV\n",
    "  - As a result, the **frequency of transactions will increase by 146%.**\n",
    "- P < 0.05 -> statistically significant"
   ]
  },
  {
   "cell_type": "markdown",
   "metadata": {},
   "source": [
    "### Equation - minus all variables/constant with p > 0.05\n",
    "\n",
    "log(TRANS_FREQ) = - 0.22REF_D + 0.0029PAGES_VIEWED - 0.24CHILDREN_D + 0.90CONNECTIONSPEED_D"
   ]
  },
  {
   "cell_type": "markdown",
   "metadata": {},
   "source": [
    "### Math behind (%) calculations\n",
    "\n",
    "#### REF_D\n",
    "\n",
    "[exp(0.22) - 1] * 100% = **25%**\n",
    "\n",
    "#### LOG_PRICE\n",
    "\n",
    "[exp(0.0005) - 1] * 100% = **0.05%**\n",
    "\n",
    "#### PAGES_VIEWED\n",
    "\n",
    "[exp(0.0029) - 1] * 100% = **0.29%**\n",
    "\n",
    "#### HOUSEHOLD_SIZE\n",
    "\n",
    "[exp(0.0085) - 1] * 100% = **0.85%**\n",
    "\n",
    "#### CHILDREN_D\n",
    "\n",
    "[exp(0.24) - 1] * 100% = **27%**\n",
    "\n",
    "#### CONNECTIONSPEED_D\n",
    "\n",
    "[exp(0.90) - 1] * 100% = **146%**"
   ]
  },
  {
   "cell_type": "markdown",
   "metadata": {},
   "source": [
    "***\n",
    "# Part 4 - Summary of Parts 2 and 3\n",
    "\n",
    "Summarize observations by comparing the results from 2 and 3."
   ]
  },
  {
   "cell_type": "markdown",
   "metadata": {},
   "source": [
    "As the preferred model is contingent on the nature of the data, we need to check the nature of TRANS_FREQ by getting its summary statistics."
   ]
  },
  {
   "cell_type": "code",
   "execution_count": 29,
   "metadata": {},
   "outputs": [
    {
     "data": {
      "text/plain": [
       "count    3749.000000\n",
       "mean        2.981328\n",
       "std         4.120927\n",
       "min         1.000000\n",
       "25%         1.000000\n",
       "50%         2.000000\n",
       "75%         3.000000\n",
       "max        30.000000\n",
       "Name: TRANS_FREQ, dtype: float64"
      ]
     },
     "execution_count": 29,
     "metadata": {},
     "output_type": "execute_result"
    }
   ],
   "source": [
    "data['TRANS_FREQ'].describe()"
   ]
  },
  {
   "cell_type": "markdown",
   "metadata": {},
   "source": [
    "**Observations**\n",
    "\n",
    "> mean = 2.98\n",
    "\n",
    "> standard deviation = 4.12\n",
    "\n",
    "> variance = (standard deviation)^2 = (4.12)^2 = 16.97\n",
    "\n",
    "## Poisson assumes mean = variance. NB allows for mean < variance.\n",
    "\n",
    "## **TRANS_FREQ has a smaller mean when compared to its variance** (2.98 and 16.97, respectively).\n",
    "\n",
    "## Thus, **NB regression is more appropriate in modeling for the frequency of transactions**."
   ]
  },
  {
   "cell_type": "code",
   "execution_count": null,
   "metadata": {},
   "outputs": [],
   "source": []
  }
 ],
 "metadata": {
  "kernelspec": {
   "display_name": "Python 3",
   "language": "python",
   "name": "python3"
  },
  "language_info": {
   "codemirror_mode": {
    "name": "ipython",
    "version": 3
   },
   "file_extension": ".py",
   "mimetype": "text/x-python",
   "name": "python",
   "nbconvert_exporter": "python",
   "pygments_lexer": "ipython3",
   "version": "3.7.3"
  }
 },
 "nbformat": 4,
 "nbformat_minor": 2
}
